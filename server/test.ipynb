{
 "cells": [
  {
   "cell_type": "code",
   "execution_count": 212,
   "metadata": {},
   "outputs": [],
   "source": [
    "from app.config import MODEL_NAME, GOOGLE_APPLICATION_CREDENTIALS, GOOGLE_PROJECT_NAME\n",
    "from app.dependencies import datastore, executor, loop, chat\n",
    "\n",
    "from langchain_google_vertexai import VertexAIEmbeddings, VertexAI\n",
    "from langchain.text_splitter import RecursiveCharacterTextSplitter\n",
    "from langchain_community.vectorstores import FAISS\n",
    "from langchain_community.document_loaders import DirectoryLoader\n",
    "from langchain_core.prompts import ChatPromptTemplate\n",
    "from langchain.chains import create_retrieval_chain\n",
    "from langchain.chains.combine_documents import create_stuff_documents_chain\n",
    "\n",
    "import os\n"
   ]
  },
  {
   "cell_type": "code",
   "execution_count": 213,
   "metadata": {},
   "outputs": [
    {
     "name": "stdout",
     "output_type": "stream",
     "text": [
      "gemini-1.5-pro C:\\Users\\T_B\\AppData\\Roaming\\gcloud\\application_default_credentials.json great-1165\n"
     ]
    }
   ],
   "source": [
    "print(MODEL_NAME, GOOGLE_APPLICATION_CREDENTIALS, GOOGLE_PROJECT_NAME)"
   ]
  },
  {
   "cell_type": "code",
   "execution_count": 274,
   "metadata": {},
   "outputs": [],
   "source": [
    "embeddings = VertexAIEmbeddings(model=\"text-embedding-004\", project=os.getenv(\"GOOGLE_PROJECT_NAME\"))\n",
    "model = VertexAI(model=\"gemini-1.5-pro\", temperature=0.2)\n"
   ]
  },
  {
   "cell_type": "code",
   "execution_count": 275,
   "metadata": {},
   "outputs": [],
   "source": [
    "text_splitter = RecursiveCharacterTextSplitter()\n",
    "\n",
    "loader = DirectoryLoader('data', glob=\"**/static/*.txt\")\n",
    "docs = loader.load()\n",
    "\n",
    "documents = text_splitter.split_documents(docs)\n",
    "\n",
    "vector = FAISS.from_documents(documents, embeddings)\n",
    "vector.save_local(\"../data/provisoire/vector_store.faiss\")\n",
    "\n",
    "retriever = vector.as_retriever()"
   ]
  },
  {
   "cell_type": "code",
   "execution_count": 276,
   "metadata": {},
   "outputs": [],
   "source": [
    "precision = \"\"\"\n",
    "    Tu es Dieter Hoffman et tu dois choisir ta prochaine action.\n",
    "\n",
    "    Maintenant, ton action est : Stop, None.\n",
    "\n",
    "    Autour de toi, tu as Farida Wang et Laurent Dubois. \n",
    "    Tu as entendu Laurent Dubois dire : \"Emma devrait revoir ses cours d'allemand.\"\n",
    "    \n",
    "    Tu as le choix entre 4 actions que tu peux réaliser : \n",
    "        - Speak : La prochaine action est de parler.\n",
    "        - Move : La prochaine action est de vous déplacer à quelqu'un. \n",
    "        - Stop : La prochaine action est de s'arrêter.\n",
    "        - ContinueAction : Tu continues l'action que tu as actuellement.\n",
    "    \n",
    "    \n",
    "    *INSTRUCTIONS:\n",
    "    Rules:\n",
    "        - Your role is to choose your next action\n",
    "        - Choose between Speak, Move and ContinueAction.\n",
    "        - If you choose Speak or Move, you have to point someone.\n",
    "        - Hearing someone talk doesn't necessarily merit a response.\n",
    "        - Hearing someone talk doesn't necessarily merit to move to her.\n",
    "        - If you are stop, you need to choose between Speak, Move and ContinueAction.\n",
    "    Output response format:\n",
    "        - Only one of the 4 actions can be chosen.\n",
    "        - If you choose Speak, you have to point someone. return: Move, name\n",
    "        - If you choose Move, you have to point someone. return: Speak, name\n",
    "        - If you choose Stop. return: Stop, None\n",
    "        - If you choose ContinueAction. return: ContinueAction, None\n",
    "\n",
    "\n",
    "\"\"\""
   ]
  },
  {
   "cell_type": "code",
   "execution_count": 283,
   "metadata": {},
   "outputs": [
    {
     "name": "stderr",
     "output_type": "stream",
     "text": [
      "Retrying langchain_google_vertexai.llms._completion_with_retry.<locals>._completion_with_retry_inner in 4.0 seconds as it raised ResourceExhausted: 429 Quota exceeded for aiplatform.googleapis.com/generate_content_requests_per_minute_per_project_per_base_model with base model: gemini-1.5-pro. Please submit a quota increase request. https://cloud.google.com/vertex-ai/docs/generative-ai/quotas-genai..\n",
      "Retrying langchain_google_vertexai.llms._completion_with_retry.<locals>._completion_with_retry_inner in 4.0 seconds as it raised ResourceExhausted: 429 Quota exceeded for aiplatform.googleapis.com/generate_content_requests_per_minute_per_project_per_base_model with base model: gemini-1.5-pro. Please submit a quota increase request. https://cloud.google.com/vertex-ai/docs/generative-ai/quotas-genai..\n",
      "Retrying langchain_google_vertexai.llms._completion_with_retry.<locals>._completion_with_retry_inner in 4.0 seconds as it raised ResourceExhausted: 429 Quota exceeded for aiplatform.googleapis.com/generate_content_requests_per_minute_per_project_per_base_model with base model: gemini-1.5-pro. Please submit a quota increase request. https://cloud.google.com/vertex-ai/docs/generative-ai/quotas-genai..\n"
     ]
    }
   ],
   "source": [
    "\n",
    "# Define prompt template\n",
    "prompt = ChatPromptTemplate.from_template(\"\"\"\n",
    "    <context> {context} </context> \\n\n",
    "    Precisions :  {input} \\n\n",
    "    Question : What action do I need to do now?\"\"\"\n",
    "    )\n",
    "\n",
    "# Create a retrieval chain to answer questions\n",
    "# The create_stuff_documents_chain function combines a language model and a prompt template\n",
    "# to generate a response based on a set of documents.\n",
    "document_chain = create_stuff_documents_chain(model, prompt)\n",
    "\n",
    "# Create a retrieval-augmented chain\n",
    "# The create_retrieval_chain function combines a retriever and a document chain to generate\n",
    "# a response based on a set of documents retrieved from the retriever.\n",
    "retrieval_chain = create_retrieval_chain(retriever, document_chain)\n",
    "\n",
    "# Invoke the retrieval-augmented chain\n",
    "# The invoke method of the retrieval_chain is used to generate a response based on the input\n",
    "# parameters. In this case, the input parameters are the user's question and the prompt for the\n",
    "# language model.\n",
    "response = retrieval_chain.invoke({\"input\": precision})\n",
    "\n"
   ]
  },
  {
   "cell_type": "code",
   "execution_count": 284,
   "metadata": {},
   "outputs": [
    {
     "data": {
      "text/plain": [
       "'ContinueAction, None \\n'"
      ]
     },
     "execution_count": 284,
     "metadata": {},
     "output_type": "execute_result"
    }
   ],
   "source": [
    "# Return the answer from the response\n",
    "response[\"answer\"]"
   ]
  }
 ],
 "metadata": {
  "kernelspec": {
   "display_name": ".venv",
   "language": "python",
   "name": "python3"
  },
  "language_info": {
   "codemirror_mode": {
    "name": "ipython",
    "version": 3
   },
   "file_extension": ".py",
   "mimetype": "text/x-python",
   "name": "python",
   "nbconvert_exporter": "python",
   "pygments_lexer": "ipython3",
   "version": "3.10.14"
  }
 },
 "nbformat": 4,
 "nbformat_minor": 2
}
